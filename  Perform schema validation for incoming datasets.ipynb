{
 "cells": [
  {
   "cell_type": "code",
   "execution_count": null,
   "id": "e34fcfa9",
   "metadata": {},
   "outputs": [],
   "source": [
    "# Import required libraries\n",
    "import pandas as pd\n",
    "from jsonschema import validate, ValidationError\n",
    "import json\n",
    "\n",
    "# Sample schema for a dataset\n",
    "# Define the expected schema as a JSON object\n",
    "schema = {\n",
    "    \"type\": \"object\",\n",
    "    \"properties\": {\n",
    "        \"user_id\": {\"type\": \"integer\"},\n",
    "        \"name\": {\"type\": \"string\"},\n",
    "        \"age\": {\"type\": \"integer\", \"minimum\": 0, \"maximum\": 120},\n",
    "        \"email\": {\"type\": \"string\", \"format\": \"email\"},\n",
    "        \"purchase_amount\": {\"type\": \"number\", \"minimum\": 0},\n",
    "        \"signup_date\": {\"type\": \"string\", \"format\": \"date\"},\n",
    "    },\n",
    "    \"required\": [\"user_id\", \"name\", \"email\", \"signup_date\"],\n",
    "    \"additionalProperties\": False\n",
    "}\n",
    "\n",
    "# Sample incoming data to validate (can replace this with an actual data load)\n",
    "data = [\n",
    "    {\"user_id\": 1, \"name\": \"John Doe\", \"age\": 28, \"email\": \"john@example.com\", \"purchase_amount\": 150.75, \"signup_date\": \"2024-01-15\"},\n",
    "    {\"user_id\": 2, \"name\": \"Jane Smith\", \"age\": -5, \"email\": \"jane@example.com\", \"purchase_amount\": 200.5, \"signup_date\": \"2024-01-20\"},\n",
    "    {\"user_id\": 3, \"name\": \"Alice\", \"email\": \"aliceexample.com\", \"purchase_amount\": -50, \"signup_date\": \"2024-01-25\"}\n",
    "]\n",
    "\n",
    "# Function to validate a single record against the schema\n",
    "def validate_record(record, schema):\n",
    "    try:\n",
    "        # Validate the record using the schema\n",
    "        validate(instance=record, schema=schema)\n",
    "        return True, None  # Validation successful\n",
    "    except ValidationError as e:\n",
    "        # Capture validation errors\n",
    "        return False, e.message\n",
    "\n",
    "# Function to validate an entire dataset and log results\n",
    "def validate_dataset(data, schema):\n",
    "    validation_results = []\n",
    "    for index, record in enumerate(data):\n",
    "        is_valid, error_message = validate_record(record, schema)\n",
    "        validation_results.append({\n",
    "            \"Record_Index\": index,\n",
    "            \"Valid\": is_valid,\n",
    "            \"Error_Message\": error_message\n",
    "        })\n",
    "    return pd.DataFrame(validation_results)\n",
    "\n",
    "# Validate the sample dataset and display the results\n",
    "validation_results_df = validate_dataset(data, schema)\n",
    "validation_results_df.head()\n"
   ]
  },
  {
   "cell_type": "code",
   "execution_count": 1,
   "id": "a1ca3542",
   "metadata": {},
   "outputs": [],
   "source": [
    "# Import required libraries\n",
    "import pandas as pd\n",
    "from jsonschema import validate, ValidationError\n",
    "import json"
   ]
  },
  {
   "cell_type": "code",
   "execution_count": 2,
   "id": "bc19212d",
   "metadata": {},
   "outputs": [],
   "source": [
    "# Sample schema for a dataset\n",
    "# Define the expected schema as a JSON object\n",
    "schema = {\n",
    "    \"type\": \"object\",\n",
    "    \"properties\": {\n",
    "        \"user_id\": {\"type\": \"integer\"},\n",
    "        \"name\": {\"type\": \"string\"},\n",
    "        \"age\": {\"type\": \"integer\", \"minimum\": 0, \"maximum\": 120},\n",
    "        \"email\": {\"type\": \"string\", \"format\": \"email\"},\n",
    "        \"purchase_amount\": {\"type\": \"number\", \"minimum\": 0},\n",
    "        \"signup_date\": {\"type\": \"string\", \"format\": \"date\"},\n",
    "    },\n",
    "    \"required\": [\"user_id\", \"name\", \"email\", \"signup_date\"],\n",
    "    \"additionalProperties\": False\n",
    "}\n"
   ]
  },
  {
   "cell_type": "code",
   "execution_count": 4,
   "id": "4cc19957",
   "metadata": {},
   "outputs": [],
   "source": [
    "# Sample incoming data to validate (can replace this with an actual data load)\n",
    "data = [\n",
    "    {\"user_id\": 1, \"name\": \"John Doe\", \"age\": 28, \"email\": \"john@example.com\", \"purchase_amount\": 150.75, \"signup_date\": \"2024-01-15\"},\n",
    "    {\"user_id\": 2, \"name\": \"Jane Smith\", \"age\": -5, \"email\": \"jane@example.com\", \"purchase_amount\": 200.5, \"signup_date\": \"2024-01-20\"},\n",
    "    {\"user_id\": 3, \"name\": \"Alice\", \"email\": \"aliceexample.com\", \"purchase_amount\": -50, \"signup_date\": \"2024-01-25\"}\n",
    "]"
   ]
  },
  {
   "cell_type": "code",
   "execution_count": 5,
   "id": "b066c1a5",
   "metadata": {},
   "outputs": [],
   "source": [
    "\n",
    "# Function to validate a single record against the schema\n",
    "def validate_record(record, schema):\n",
    "    try:\n",
    "        # Validate the record using the schema\n",
    "        validate(instance=record, schema=schema)\n",
    "        return True, None  # Validation successful\n",
    "    except ValidationError as e:\n",
    "        # Capture validation errors\n",
    "        return False, e.message"
   ]
  },
  {
   "cell_type": "code",
   "execution_count": 6,
   "id": "6f3f5748",
   "metadata": {},
   "outputs": [],
   "source": [
    "\n",
    "# Function to validate an entire dataset and log results\n",
    "def validate_dataset(data, schema):\n",
    "    validation_results = []\n",
    "    for index, record in enumerate(data):\n",
    "        is_valid, error_message = validate_record(record, schema)\n",
    "        validation_results.append({\n",
    "            \"Record_Index\": index,\n",
    "            \"Valid\": is_valid,\n",
    "            \"Error_Message\": error_message\n",
    "        })\n",
    "    return pd.DataFrame(validation_results)"
   ]
  },
  {
   "cell_type": "code",
   "execution_count": 7,
   "id": "3ddfc94a",
   "metadata": {},
   "outputs": [
    {
     "data": {
      "text/html": [
       "<div>\n",
       "<style scoped>\n",
       "    .dataframe tbody tr th:only-of-type {\n",
       "        vertical-align: middle;\n",
       "    }\n",
       "\n",
       "    .dataframe tbody tr th {\n",
       "        vertical-align: top;\n",
       "    }\n",
       "\n",
       "    .dataframe thead th {\n",
       "        text-align: right;\n",
       "    }\n",
       "</style>\n",
       "<table border=\"1\" class=\"dataframe\">\n",
       "  <thead>\n",
       "    <tr style=\"text-align: right;\">\n",
       "      <th></th>\n",
       "      <th>Record_Index</th>\n",
       "      <th>Valid</th>\n",
       "      <th>Error_Message</th>\n",
       "    </tr>\n",
       "  </thead>\n",
       "  <tbody>\n",
       "    <tr>\n",
       "      <th>0</th>\n",
       "      <td>0</td>\n",
       "      <td>True</td>\n",
       "      <td>None</td>\n",
       "    </tr>\n",
       "    <tr>\n",
       "      <th>1</th>\n",
       "      <td>1</td>\n",
       "      <td>False</td>\n",
       "      <td>-5 is less than the minimum of 0</td>\n",
       "    </tr>\n",
       "    <tr>\n",
       "      <th>2</th>\n",
       "      <td>2</td>\n",
       "      <td>False</td>\n",
       "      <td>-50 is less than the minimum of 0</td>\n",
       "    </tr>\n",
       "  </tbody>\n",
       "</table>\n",
       "</div>"
      ],
      "text/plain": [
       "   Record_Index  Valid                      Error_Message\n",
       "0             0   True                               None\n",
       "1             1  False   -5 is less than the minimum of 0\n",
       "2             2  False  -50 is less than the minimum of 0"
      ]
     },
     "execution_count": 7,
     "metadata": {},
     "output_type": "execute_result"
    }
   ],
   "source": [
    "\n",
    "# Validate the sample dataset and display the results\n",
    "validation_results_df = validate_dataset(data, schema)\n",
    "validation_results_df.head()"
   ]
  },
  {
   "cell_type": "code",
   "execution_count": null,
   "id": "f92efeea",
   "metadata": {},
   "outputs": [],
   "source": []
  }
 ],
 "metadata": {
  "kernelspec": {
   "display_name": "Python 3 (ipykernel)",
   "language": "python",
   "name": "python3"
  },
  "language_info": {
   "codemirror_mode": {
    "name": "ipython",
    "version": 3
   },
   "file_extension": ".py",
   "mimetype": "text/x-python",
   "name": "python",
   "nbconvert_exporter": "python",
   "pygments_lexer": "ipython3",
   "version": "3.10.13"
  }
 },
 "nbformat": 4,
 "nbformat_minor": 5
}
